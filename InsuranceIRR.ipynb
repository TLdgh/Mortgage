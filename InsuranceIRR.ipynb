{
 "cells": [
  {
   "cell_type": "code",
   "execution_count": 1,
   "metadata": {},
   "outputs": [],
   "source": [
    "import LifeInsurance\n",
    "import pandas as pd"
   ]
  },
  {
   "cell_type": "code",
   "execution_count": null,
   "metadata": {},
   "outputs": [],
   "source": [
    "df=pd.read_excel('Total_Life_Insurance_Amount_Mother.xlsx', skiprows=1, header=0)\n",
    "df=df.loc[:, ~df.columns.str.contains(\"interest\", case=False)]\n",
    "cols=[\"Surrender Value\",\"Death Benefit\",\"Total Surrender Value\",\"Total Death Benefit\"]\n",
    "\n",
    "getIRR(df, cols=cols)"
   ]
  }
 ],
 "metadata": {
  "kernelspec": {
   "display_name": "MortgageVenv",
   "language": "python",
   "name": "python3"
  },
  "language_info": {
   "codemirror_mode": {
    "name": "ipython",
    "version": 3
   },
   "file_extension": ".py",
   "mimetype": "text/x-python",
   "name": "python",
   "nbconvert_exporter": "python",
   "pygments_lexer": "ipython3",
   "version": "3.10.9"
  }
 },
 "nbformat": 4,
 "nbformat_minor": 2
}
